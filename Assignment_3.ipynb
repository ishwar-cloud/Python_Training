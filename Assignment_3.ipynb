{
  "metadata": {
    "kernelspec": {
      "name": "python",
      "display_name": "Python (Pyodide)",
      "language": "python"
    },
    "language_info": {
      "codemirror_mode": {
        "name": "python",
        "version": 3
      },
      "file_extension": ".py",
      "mimetype": "text/x-python",
      "name": "python",
      "nbconvert_exporter": "python",
      "pygments_lexer": "ipython3",
      "version": "3.8"
    }
  },
  "nbformat_minor": 4,
  "nbformat": 4,
  "cells": [
    {
      "cell_type": "code",
      "source": "#Assignment- OOP\n#1. Write a Python program to create a class representing a stack data structure. \n#Include methods for pushing and popping elements.",
      "metadata": {
        "trusted": true
      },
      "outputs": [],
      "execution_count": 1
    },
    {
      "cell_type": "code",
      "source": "class Stack:\n    def __init__(self):\n        self.items = []\n\n    def push(self, item):\n       \n        self.items.append(item)\n        print(f'Pushed {item} onto the stack.')\n    \n    def pop(self):\n       \n        if len(self.items) == 0:\n            return \"Stack is empty. Cannot pop.\"\n        return self.items.pop()\n    \nstack = Stack()\n    \nstack.push(10)\nstack.push(20)\nstack.push(30)\n\n    \n\n \n\n",
      "metadata": {
        "trusted": true
      },
      "outputs": [
        {
          "name": "stdout",
          "text": "Pushed 10 onto the stack.\nPushed 20 onto the stack.\nPushed 30 onto the stack.\n",
          "output_type": "stream"
        }
      ],
      "execution_count": 19
    },
    {
      "cell_type": "code",
      "source": "stack.pop()",
      "metadata": {
        "trusted": true
      },
      "outputs": [
        {
          "execution_count": 17,
          "output_type": "execute_result",
          "data": {
            "text/plain": "30"
          },
          "metadata": {}
        }
      ],
      "execution_count": 20
    },
    {
      "cell_type": "code",
      "source": "#Write a Python program to create a class representing a linked list data structure.\n#Include methods for displaying linked list data, inserting and deleting nodes.",
      "metadata": {
        "trusted": true
      },
      "outputs": [],
      "execution_count": null
    },
    {
      "cell_type": "code",
      "source": "class Node:\n    def __init__(self, data):\n        self.data = data  \n        self.next = None  \n\n\nclass LinkedList:\n    def __init__(self):\n        self.head = None  \n    def display(self):\n        \n        if self.head is None:\n            print(\"The list is empty.\")\n            return\n        current = self.head\n        while current:\n            print(current.data, end=\" -> \")\n            current = current.next\n        print(\"None\")\n\n    def insert(self, data):\n       \n        new_node = Node(data)\n        if self.head is None:\n            self.head = new_node\n        else:\n            current = self.head\n            while current.next:\n                current = current.next\n            current.next = new_node\n        print(f\"Inserted {data} into the linked list.\")\n\n    def delete(self, data):\n        \n        if self.head is None:\n            print(\"The list is empty. Cannot delete.\")\n            return\n\n        # If the node to be deleted is the head\n        if self.head.data == data:\n            self.head = self.head.next\n            print(f\"Deleted {data} from the linked list.\")\n            return\n\n        # Find the node to be deleted\n        current = self.head\n        while current.next and current.next.data != data:\n            current = current.next\n\n        # If the node to delete is found\n        if current.next:\n            current.next = current.next.next\n            print(f\"Deleted {data} from the linked list.\")\n        else:\n            print(f\"{data} not found in the linked list.\")\n\n\n# Example usage\nif __name__ == \"__main__\":\n    ll = LinkedList()\n\n    # Insert elements\n    ll.insert(10)\n    ll.insert(20)\n    ll.insert(30)\n    ll.insert(40)\n\n    # Display linked list\n    ll.display()\n\n    # Delete a node\n\n\n\n\n    \n    ll.delete(20)\n    ll.display()\n\n    # Try deleting a node that doesn't exist\n    ll.delete(50)\n    ll.display()\n",
      "metadata": {
        "trusted": true
      },
      "outputs": [
        {
          "name": "stdout",
          "text": "Inserted 10 into the linked list.\nInserted 20 into the linked list.\nInserted 30 into the linked list.\nInserted 40 into the linked list.\n10 -> 20 -> 30 -> 40 -> None\nDeleted 20 from the linked list.\n10 -> 30 -> 40 -> None\n50 not found in the linked list.\n10 -> 30 -> 40 -> None\n",
          "output_type": "stream"
        }
      ],
      "execution_count": 21
    },
    {
      "cell_type": "code",
      "source": "#Write a Python program to create a class representing a shopping cart. \n#Include methods for adding and removing items, and calculating the total price",
      "metadata": {
        "trusted": true
      },
      "outputs": [],
      "execution_count": null
    },
    {
      "cell_type": "code",
      "source": "class Item:\n    def __init__(self, name, price, quantity=1):\n        self.name = name\n        self.price = price\n        self.quantity = quantity\n\n    def __str__(self):\n        return f\"{self.name} - ${self.price:.2f} x {self.quantity}\"\n\nclass ShoppingCart:\n    def __init__(self):\n        self.cart = []  # List to hold items\n\n    def add_item(self, name, price, quantity=1):\n        \"\"\"Add an item to the cart.\"\"\"\n        for item in self.cart:\n            if item.name == name:\n                item.quantity += quantity\n                print(f\"Updated {name}: {item.quantity} in the cart.\")\n                return\n        self.cart.append(Item(name, price, quantity))\n        print(f\"Added {name} to the cart.\")\n\n    def remove_item(self, name):\n        \"\"\"Remove an item from the cart.\"\"\"\n        for item in self.cart:\n            if item.name == name:\n                self.cart.remove(item)\n                print(f\"Removed {name} from the cart.\")\n                return\n        print(f\"{name} not found in the cart.\")\n\n    def calculate_total(self):\n        \"\"\"Calculate the total price of items in the cart.\"\"\"\n        total = sum(item.price * item.quantity for item in self.cart)\n        return total\n\n    def display_cart(self):\n        \"\"\"Display all the items in the cart.\"\"\"\n        if not self.cart:\n            print(\"The cart is empty.\")\n        else:\n            for item in self.cart:\n                print(item)\n            print(f\"Total price: ${self.calculate_total():.2f}\")\n\n# Example usage\nif __name__ == \"__main__\":\n    cart = ShoppingCart()\n\n    # Add items\n    cart.add_item(\"Apple\", 1.50, 3)\n    cart.add_item(\"Banana\", 0.75, 5)\n    cart.add_item(\"Orange\", 1.25, 2)\n\n    # Display cart\n    cart.display_cart()\n\n    # Remove an item\n    cart.remove_item(\"Banana\")\n\n    # Display cart again\n    cart.display_cart()\n\n    # Add more apples\n    cart.add_item(\"Apple\", 1.50, 2)\n\n    # Display final cart\n    cart.display_cart()\n",
      "metadata": {
        "trusted": true
      },
      "outputs": [
        {
          "name": "stdout",
          "text": "Added Apple to the cart.\nAdded Banana to the cart.\nAdded Orange to the cart.\nApple - $1.50 x 3\nBanana - $0.75 x 5\nOrange - $1.25 x 2\nTotal price: $10.75\nRemoved Banana from the cart.\nApple - $1.50 x 3\nOrange - $1.25 x 2\nTotal price: $7.00\nUpdated Apple: 5 in the cart.\nApple - $1.50 x 5\nOrange - $1.25 x 2\nTotal price: $10.00\n",
          "output_type": "stream"
        }
      ],
      "execution_count": 22
    },
    {
      "cell_type": "code",
      "source": "#Write a Python program to create a class representing a stack data structure. \n#Include methods for pushing, popping and displaying elements",
      "metadata": {
        "trusted": true
      },
      "outputs": [],
      "execution_count": null
    },
    {
      "cell_type": "code",
      "source": "class Stack:\n    def __init__(self):\n        self.stack = []  # Initialize an empty list to represent the stack\n\n    def push(self, item):\n     \n        self.stack.append(item)\n        print(f\"Pushed {item} onto the stack.\")\n\n    def pop(self):\n       \n        if self.is_empty():\n            print(\"Stack is empty. Cannot pop.\")\n            return None\n        return self.stack.pop()\n\n    def is_empty(self):\n        \"\"\"Check if the stack is empty.\"\"\"\n        return len(self.stack) == 0\n\n    def display(self):\n        \n        if self.is_empty():\n            print(\"Stack is empty.\")\n        else:\n            print(\"Stack elements (top to bottom):\")\n            for item in reversed(self.stack):  # Display from top to bottom\n                print(item)\n\n# Example usage\nif __name__ == \"__main__\":\n    stack = Stack()\n\n    # Push elements onto the stack\n    stack.push(10)\n    stack.push(20)\n    stack.push(30)\n\n    # Display the stack\n    stack.display()\n\n    # Pop an element from the stack\n    print(f\"Popped element: {stack.pop()}\")\n\n    # Display the stack after popping\n    stack.display()\n\n    # Pop all elements and try to pop from an empty stack\n    stack.pop()\n    stack.pop()\n    stack.pop()  # Trying to pop from empty stack\n",
      "metadata": {
        "trusted": true
      },
      "outputs": [
        {
          "name": "stdout",
          "text": "Pushed 10 onto the stack.\nPushed 20 onto the stack.\nPushed 30 onto the stack.\nStack elements (top to bottom):\n30\n20\n10\nPopped element: 30\nStack elements (top to bottom):\n20\n10\nStack is empty. Cannot pop.\n",
          "output_type": "stream"
        }
      ],
      "execution_count": 23
    },
    {
      "cell_type": "code",
      "source": "",
      "metadata": {
        "trusted": true
      },
      "outputs": [],
      "execution_count": null
    }
  ]
}