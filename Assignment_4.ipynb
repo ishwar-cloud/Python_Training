{
  "metadata": {
    "kernelspec": {
      "name": "python",
      "display_name": "Python (Pyodide)",
      "language": "python"
    },
    "language_info": {
      "codemirror_mode": {
        "name": "python",
        "version": 3
      },
      "file_extension": ".py",
      "mimetype": "text/x-python",
      "name": "python",
      "nbconvert_exporter": "python",
      "pygments_lexer": "ipython3",
      "version": "3.8"
    }
  },
  "nbformat_minor": 4,
  "nbformat": 4,
  "cells": [
    {
      "cell_type": "code",
      "source": "# . Write a Python program to create a lambda function that adds 15 to a given number passed in as an argument, \n#also create a lambda function that multiplies argument x with argument y and prints the result.",
      "metadata": {
        "trusted": true
      },
      "outputs": [],
      "execution_count": null
    },
    {
      "cell_type": "code",
      "source": "# Lambda function to add 15 to a given number\nadd_15 = lambda x: x + 15\n\n# Lambda function to multiply two arguments\nmultiply = lambda x, y: x * y\n\n# Example usage\nnum = 10\nprint(f\"Adding 15 to {num}: {add_15(num)}\")\n\nx = 12\ny = 4\nprint(f\"Multiplying {x} and {y}: {multiply(x, y)}\")\n",
      "metadata": {
        "trusted": true
      },
      "outputs": [
        {
          "name": "stdout",
          "text": "Adding 15 to 10: 25\nMultiplying 12 and 4: 48\n",
          "output_type": "stream"
        }
      ],
      "execution_count": 3
    },
    {
      "cell_type": "code",
      "source": "#Write a Python program to create a function that takes one argument, \n#and that argument will be multiplied with an unknown given number.\n\n",
      "metadata": {
        "trusted": true
      },
      "outputs": [],
      "execution_count": null
    },
    {
      "cell_type": "code",
      "source": "def multiply_with_unknown(multiplier):\n    \n    return lambda x: x * multiplier\n\n# Create specific functions using the base function\ndouble = multiply_with_unknown(2)\ntriple = multiply_with_unknown(3)\nquadruple = multiply_with_unknown(4)\nquintuple = multiply_with_unknown(5)\n\n# Example usage with number 15\nnum = 15\nprint(f\"Double the number of {num} = {double(num)}\")\nprint(f\"Triple the number of {num} = {triple(num)}\")\nprint(f\"Quadruple the number of {num} = {quadruple(num)}\")\nprint(f\"Quintuple the number of {num} = {quintuple(num)}\")\n",
      "metadata": {
        "trusted": true
      },
      "outputs": [
        {
          "name": "stdout",
          "text": "Double the number of 15 = 30\nTriple the number of 15 = 45\nQuadruple the number of 15 = 60\nQuintuple the number of 15 = 75\n",
          "output_type": "stream"
        }
      ],
      "execution_count": 4
    },
    {
      "cell_type": "code",
      "source": "#Write a Python program to sort a list of tuples using Lambda. \n#Original list of tuples: [('English', 88), ('Science', 90), ('Maths', 97), ('Social sciences', 82)]\n#Sorting the List of Tuples: [('Social sciences', 82), ('English', 88), ('Science', 90), ('Maths', 97)]",
      "metadata": {
        "trusted": true
      },
      "outputs": [],
      "execution_count": null
    },
    {
      "cell_type": "code",
      "source": "# Original list of tuples\nsubjects_scores = [('English', 88), ('Science', 90), ('Maths', 97), ('Social sciences', 82)]\n\n# Sort the list of tuples by the second element (the score) using a lambda function\nsorted_subjects_scores = sorted(subjects_scores, key=lambda x: x[1])\n\n# Display the sorted list\nprint(\"Sorting the List of Tuples:\")\nprint(sorted_subjects_scores)\n",
      "metadata": {
        "trusted": true
      },
      "outputs": [
        {
          "name": "stdout",
          "text": "Sorting the List of Tuples:\n[('Social sciences', 82), ('English', 88), ('Science', 90), ('Maths', 97)]\n",
          "output_type": "stream"
        }
      ],
      "execution_count": 5
    },
    {
      "cell_type": "code",
      "source": "#Write a Python program to sort a list of dictionaries using Lambda. Original list of dictionaries : [{'make': 'Nokia', 'model': 216, 'color': 'Black'}, {'make': 'Mi Max', 'model': '2', 'color': 'Gold'}, {'make': 'Samsung', 'model': 7, 'color': 'Blue'}] Sorting the List of dictionaries : [{'make': 'Nokia', 'model': 216, 'color': 'Black'}, {'make': 'Samsung', 'model': 7, 'color': 'Blue'}, {'make': 'Mi Max', 'model': '2', 'color': 'Gold'}]",
      "metadata": {
        "trusted": true
      },
      "outputs": [],
      "execution_count": null
    },
    {
      "cell_type": "code",
      "source": "# Original list of dictionaries\nphones = [\n    {'make': 'Nokia', 'model': 216, 'color': 'Black'},\n    {'make': 'Mi Max', 'model': '2', 'color': 'Gold'},\n    {'make': 'Samsung', 'model': 7, 'color': 'Blue'}\n]\n\n# Sort the list of dictionaries by the 'make' key using a lambda function\nsorted_phones = sorted(phones, key=lambda x: x['make'])\n\n# Display the sorted list\nprint(\"Sorting the List of Dictionaries:\")\nprint(sorted_phones)\n",
      "metadata": {
        "trusted": true
      },
      "outputs": [
        {
          "name": "stdout",
          "text": "Sorting the List of Dictionaries:\n[{'make': 'Mi Max', 'model': '2', 'color': 'Gold'}, {'make': 'Nokia', 'model': 216, 'color': 'Black'}, {'make': 'Samsung', 'model': 7, 'color': 'Blue'}]\n",
          "output_type": "stream"
        }
      ],
      "execution_count": 6
    },
    {
      "cell_type": "code",
      "source": "#Write a Python program to filter a list of integers using Lambda.\n#Original list of integers: [1, 2, 3, 4, 5, 6, 7, 8, 9, 10] Even numbers from the said\n#list: [2, 4, 6, 8, 10] Odd numbers from the said list: [1, 3, 5, 7, 9]",
      "metadata": {
        "trusted": true
      },
      "outputs": [],
      "execution_count": null
    },
    {
      "cell_type": "code",
      "source": "# Original list of integers\nnumbers = [1, 2, 3, 4, 5, 6, 7, 8, 9, 10]\n\n# Filter even numbers using a lambda function\neven_numbers = list(filter(lambda x: x % 2 == 0, numbers))\n\n# Filter odd numbers using a lambda function\nodd_numbers = list(filter(lambda x: x % 2 != 0, numbers))\n\n# Display the results\nprint(\"Original list of integers:\", numbers)\nprint(\"Even numbers from the list:\", even_numbers)\nprint(\"Odd numbers from the list:\", odd_numbers)\n",
      "metadata": {
        "trusted": true
      },
      "outputs": [
        {
          "name": "stdout",
          "text": "Original list of integers: [1, 2, 3, 4, 5, 6, 7, 8, 9, 10]\nEven numbers from the list: [2, 4, 6, 8, 10]\nOdd numbers from the list: [1, 3, 5, 7, 9]\n",
          "output_type": "stream"
        }
      ],
      "execution_count": 7
    },
    {
      "cell_type": "code",
      "source": "#Write a Python program to square and cube every number in a given list of integers using Lambda. \n#Original list of integers: [1, 2, 3, 4, 5, 6, 7, 8, 9, 10] Square every number of the said \n#list: [1, 4, 9, 16, 25, 36, 49, 64, 81, 100]\n\n#Cube every number of the said list: [1, 8, 27, 64, 125, 216, 343, 512, 729, 1000]",
      "metadata": {
        "trusted": true
      },
      "outputs": [],
      "execution_count": null
    },
    {
      "cell_type": "code",
      "source": "# Original list of integers\nnumbers = [1, 2, 3, 4, 5, 6, 7, 8, 9, 10]\n\n# Square every number using a lambda function with map()\nsquared_numbers = list(map(lambda x: x ** 2, numbers))\n\n# Cube every number using a lambda function with map()\ncubed_numbers = list(map(lambda x: x ** 3, numbers))\n\n# Display the results\nprint(\"Original list of integers:\", numbers)\nprint(\"Square every number of the list:\", squared_numbers)\nprint(\"Cube every number of the list:\", cubed_numbers)\n",
      "metadata": {
        "trusted": true
      },
      "outputs": [
        {
          "name": "stdout",
          "text": "Original list of integers: [1, 2, 3, 4, 5, 6, 7, 8, 9, 10]\nSquare every number of the list: [1, 4, 9, 16, 25, 36, 49, 64, 81, 100]\nCube every number of the list: [1, 8, 27, 64, 125, 216, 343, 512, 729, 1000]\n",
          "output_type": "stream"
        }
      ],
      "execution_count": 8
    },
    {
      "cell_type": "code",
      "source": "#Write a Python program to find if a given string starts with a given character using Lambda.",
      "metadata": {
        "trusted": true
      },
      "outputs": [],
      "execution_count": null
    },
    {
      "cell_type": "code",
      "source": "start = lambda x: True if x.startswith('h') else False\nprint(start('hello'))\nprint(start('no'))",
      "metadata": {
        "trusted": true
      },
      "outputs": [
        {
          "name": "stdout",
          "text": "True\nFalse\n",
          "output_type": "stream"
        }
      ],
      "execution_count": 12
    },
    {
      "cell_type": "code",
      "source": "#Write a Python program to extract year, month, date and time using Lambda.\n#Sample Output: 2020-01-15 09:03:32.744178 2020 1 15 09:03:32.744178",
      "metadata": {
        "trusted": true
      },
      "outputs": [],
      "execution_count": null
    },
    {
      "cell_type": "code",
      "source": "from datetime import datetime\n\n# Sample datetime string\ndatetime_str = '2020-01-15 09:03:32.744178'\n\n# Parse the datetime string into a datetime object\ndt = datetime.strptime(datetime_str, '%Y-%m-%d %H:%M:%S.%f')\n\n# Lambda functions to extract year, month, day, and time\nextract_year = lambda dt: dt.year\nextract_month = lambda dt: dt.month\nextract_day = lambda dt: dt.day\nextract_time = lambda dt: dt.strftime('%H:%M:%S.%f')\n\n# Extract and display the results\nyear = extract_year(dt)\nmonth = extract_month(dt)\nday = extract_day(dt)\ntime = extract_time(dt)\n\nprint(f\"Original datetime: {datetime_str}\")\nprint(f\"Year: {year}\")\nprint(f\"Month: {month}\")\nprint(f\"Day: {day}\")\nprint(f\"Time: {time}\")\n",
      "metadata": {
        "trusted": true
      },
      "outputs": [
        {
          "name": "stdout",
          "text": "Original datetime: 2020-01-15 09:03:32.744178\nYear: 2020\nMonth: 1\nDay: 15\nTime: 09:03:32.744178\n",
          "output_type": "stream"
        }
      ],
      "execution_count": 13
    },
    {
      "cell_type": "code",
      "source": "#Write a Python program to check whether a given string is a number or not using Lambda.\n#Sample Output: True True False True False True Print checking numbers: True True",
      "metadata": {
        "trusted": true
      },
      "outputs": [],
      "execution_count": null
    },
    {
      "cell_type": "code",
      "source": "def is_number(s):\n    \n    try:\n        float(s)  # Try converting the string to a float\n        return True\n    except ValueError:\n        return False\n\n# Lambda function to check if a string is a number\ncheck_number = lambda s: is_number(s)\n\n# Sample strings to test\ntest_strings = ['123', '45.67', 'abc', '-789', '3.14e-10', 'NaN']\n\n# Check and display results\nresults = [check_number(s) for s in test_strings]\n\nprint(\"Checking numbers:\")\nfor result in results:\n    print(result)\n",
      "metadata": {
        "trusted": true
      },
      "outputs": [
        {
          "name": "stdout",
          "text": "Checking numbers:\nTrue\nTrue\nFalse\nTrue\nTrue\nTrue\n",
          "output_type": "stream"
        }
      ],
      "execution_count": 15
    },
    {
      "cell_type": "code",
      "source": "#Write a Python program to create Fibonacci series up to n using Lambda. \n#Fibonacci series upto 2: [0, 1] Fibonacci series upto 5: [0, 1, 1, 2, 3] \n#Fibonacci series upto 6: [0, 1, 1, 2, 3, 5] Fibonacci series upto 9: [0, 1, 1, 2, 3, 5, 8, 13, 21]",
      "metadata": {
        "trusted": true
      },
      "outputs": [],
      "execution_count": null
    },
    {
      "cell_type": "code",
      "source": "def fibonacci_series(n):\n    \"\"\"Generate Fibonacci series up to n elements.\"\"\"\n    fib = lambda x, y, n: [] if n == 0 else [x] + fib(y, x + y, n - 1)\n    return fib(0, 1, n)\n\n# Test cases\nprint(\"Fibonacci series up to 2:\", fibonacci_series(2))\nprint(\"Fibonacci series up to 5:\", fibonacci_series(5))\nprint(\"Fibonacci series up to 6:\", fibonacci_series(6))\nprint(\"Fibonacci series up to 9:\", fibonacci_series(9))\n",
      "metadata": {
        "trusted": true
      },
      "outputs": [
        {
          "name": "stdout",
          "text": "Fibonacci series up to 2: [0, 1]\nFibonacci series up to 5: [0, 1, 1, 2, 3]\nFibonacci series up to 6: [0, 1, 1, 2, 3, 5]\nFibonacci series up to 9: [0, 1, 1, 2, 3, 5, 8, 13, 21]\n",
          "output_type": "stream"
        }
      ],
      "execution_count": 16
    },
    {
      "cell_type": "code",
      "source": "#Write a Python program to find the intersection of two given arrays using Lambda. \n#Original arrays: [1, 2, 3, 5, 7, 8, 9, 10] [1, 2, 4, 8, 9] \n#Intersection of the said arrays: [1, 2, 8, 9]",
      "metadata": {
        "trusted": true
      },
      "outputs": [],
      "execution_count": null
    },
    {
      "cell_type": "code",
      "source": "# Original arrays\narray1 = [1, 2, 3, 5, 7, 8, 9, 10]\narray2 = [1, 2, 4, 8, 9]\n\n# Lambda function to find intersection\nintersection = lambda arr1, arr2: list(filter(lambda x: x in arr2, arr1))\n\n# Find intersection of the two arrays\nresult = intersection(array1, array2)\n\n# Display the results\nprint(\"Original arrays:\")\nprint(array1)\nprint(array2)\nprint(\"Intersection of the said arrays:\", result)\n",
      "metadata": {
        "trusted": true
      },
      "outputs": [
        {
          "name": "stdout",
          "text": "Original arrays:\n[1, 2, 3, 5, 7, 8, 9, 10]\n[1, 2, 4, 8, 9]\nIntersection of the said arrays: [1, 2, 8, 9]\n",
          "output_type": "stream"
        }
      ],
      "execution_count": 17
    },
    {
      "cell_type": "code",
      "source": "",
      "metadata": {
        "trusted": true
      },
      "outputs": [],
      "execution_count": null
    }
  ]
}